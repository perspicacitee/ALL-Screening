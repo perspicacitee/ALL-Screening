{
 "cells": [
  {
   "cell_type": "code",
   "execution_count": 2,
   "metadata": {},
   "outputs": [],
   "source": [
    "import numpy as np\n",
    "import pandas as pd\n",
    "import json"
   ]
  },
  {
   "cell_type": "markdown",
   "metadata": {},
   "source": [
    "## 血常规报告参数"
   ]
  },
  {
   "cell_type": "code",
   "execution_count": 57,
   "metadata": {},
   "outputs": [],
   "source": [
    "xcgbaogao = pd.read_csv(r\"E:\\Dataset\\heretolymph\\20240703新增\\disease_arms\\血常规通道参数.csv\", encoding='gbk')\n",
    "xcgbaogao.to_csv(r\"E:\\Dataset\\heretolymph\\20240703新增\\disease_arms\\血常规通道参数.csv\", index=False, encoding='utf-8')"
   ]
  },
  {
   "cell_type": "code",
   "execution_count": 58,
   "metadata": {},
   "outputs": [],
   "source": [
    "# 镜检这一列 均值 填充\n",
    "xcgbaogao['住院号'] = xcgbaogao['住院号'].fillna(0)"
   ]
  },
  {
   "cell_type": "code",
   "execution_count": 59,
   "metadata": {},
   "outputs": [],
   "source": [
    "# 0 填充其他列\n",
    "xcgbaogao = xcgbaogao.fillna(xcgbaogao.mean())\n",
    "xcgbaogao = xcgbaogao.fillna(0)\n"
   ]
  },
  {
   "cell_type": "code",
   "execution_count": 55,
   "metadata": {},
   "outputs": [],
   "source": [
    "# 序号这一列 + 1000\n",
    "xcgbaogao['序号'] = xcgbaogao['序号'] + 1000"
   ]
  },
  {
   "cell_type": "code",
   "execution_count": 60,
   "metadata": {},
   "outputs": [],
   "source": [
    "# 保存，小数点后两位\n",
    "xcgbaogao.to_csv(r\"E:\\Dataset\\heretolymph\\20240703新增\\disease_arms\\血常规通道参数1.csv\", index=False, float_format='%.2f')"
   ]
  },
  {
   "cell_type": "code",
   "execution_count": 3,
   "metadata": {},
   "outputs": [],
   "source": [
    "def fill_mean(csv_path, save_path):\n",
    "    data = pd.read_csv(csv_path)\n",
    "    data['住院号'] = data['住院号'].fillna(0)\n",
    "    data['序号'] = data['序号'] + 1000\n",
    "    data = data.fillna(-1)\n",
    "    data.to_csv(save_path, index=False, float_format='%.1f')\n",
    "\n",
    "file_src = r\"E:\\Dataset\\heretolymph\\20240626新增\\验证数据 24.6.17\\csv_data\\control_arms\\血常规通道参数0.csv\"\n",
    "file_des = r\"E:\\Dataset\\heretolymph\\20240626新增\\验证数据 24.6.17\\csv_data\\control_arms\\血常规通道参数1.csv\"\n",
    "fill_mean(file_src, file_des)"
   ]
  },
  {
   "cell_type": "markdown",
   "metadata": {},
   "source": [
    "## 图片重新命名"
   ]
  },
  {
   "cell_type": "code",
   "execution_count": 20,
   "metadata": {},
   "outputs": [],
   "source": [
    "# 将 ../ALL文件夹下的图片名称前加上 1000\n",
    "import os\n",
    "import shutil\n",
    "\n",
    "def rename_files(path):\n",
    "    files = os.listdir(path)\n",
    "    for file in files:\n",
    "        if file.endswith(\".PNG\"):\n",
    "            # new_name = \"2\" + file[1:]\n",
    "            new_name = file.lower()\n",
    "            os.rename(os.path.join(path, file), os.path.join(path, new_name))\n",
    "\n",
    "rename_files(r\"E:\\Dataset\\heretolymph\\20240626新增\\验证数据 24.6.17\\反应性疾病组 散点图\")"
   ]
  },
  {
   "cell_type": "markdown",
   "metadata": {},
   "source": [
    "## 转换为JSON格式"
   ]
  },
  {
   "cell_type": "code",
   "execution_count": 66,
   "metadata": {},
   "outputs": [],
   "source": [
    "import os\n",
    "arms = \"control_arms\"\n",
    "os.chdir(r\"E:\\Dataset\\heretolymph\\20240703新增\\\\\" + arms)\n",
    "\n",
    "def transform(xcg_baogao, xcg_leibie, xcg_tongdao):\n",
    "    xcg_baogao = pd.read_csv(xcg_baogao)\n",
    "    xcg_leibie = pd.read_csv(xcg_leibie)\n",
    "    xcg_tongdao = pd.read_csv(xcg_tongdao)\n",
    "    for i in xcg_baogao.index:\n",
    "        assert xcg_baogao.loc[i, \"序号\"] == xcg_leibie.loc[i, \"序号\"] == xcg_tongdao.loc[i, \"序号\"], \"各项系数中的病人编号需要相同\"\n",
    "            \n",
    "        p_no = xcg_baogao.loc[i, \"序号\"]\n",
    "        # init\n",
    "        data = {\"基础信息\":{}, \"图片路径\":\"\",\"临床\":{}, \"生化\":{}, \"血常规报告参数\":{}, \"淋巴类别\":{}, \"血常规通道参数\":{}, \"镜检\":None}\n",
    "\n",
    "        data[\"基础信息\"] = xcg_baogao.iloc[i, 0:3].to_dict()\n",
    "        data[\"图片路径\"] = f\"../{arms}/{p_no}.png\"\n",
    "        data[\"临床\"] = None # linchuang.iloc[i, 3:].to_dict()\n",
    "        data[\"生化\"] = None # shenghua.iloc[i, 3:].to_dict()\n",
    "        # data[\"生化\"] = None\n",
    "        data[\"血常规报告参数\"] = xcg_baogao.iloc[i, 3:-1].to_dict()\n",
    "        data[\"淋巴类别\"] = xcg_leibie.iloc[i, 3:-1].to_dict()\n",
    "        data[\"血常规通道参数\"] = xcg_tongdao.iloc[i, 3:-1].to_dict()\n",
    "        data[\"镜检\"] = int(xcg_tongdao.iloc[i, -1])\n",
    "        data['label'] = int(str(p_no)[0]) - 1\n",
    "\n",
    "\n",
    "        des_path = f\"../{p_no}.json\"\n",
    "        \n",
    "        with open(des_path, 'w') as f:\n",
    "            json.dump(data, f, indent=4, ensure_ascii=False)\n",
    "\n",
    "transform(\"血常规报告参数1.csv\", \"血常规淋巴类别1.csv\", \"血常规通道参数1.csv\")"
   ]
  },
  {
   "cell_type": "code",
   "execution_count": 67,
   "metadata": {},
   "outputs": [],
   "source": [
    "os.chdir(r\"E:\\Dataset\\heretolymph\\20240703新增\")\n",
    "data = []\n",
    "for file in os.listdir():\n",
    "    if file.endswith(\"json\"):\n",
    "        with open(file, 'r') as f:\n",
    "            data.append(json.load(f))\n",
    "\n",
    "with open(\"__all_external.json\", 'w') as f:\n",
    "    json.dump(data, f, indent=4, ensure_ascii=False)"
   ]
  },
  {
   "cell_type": "code",
   "execution_count": 8,
   "metadata": {},
   "outputs": [],
   "source": [
    "data = json.loads(open(\"__all.json\", 'r').read())"
   ]
  }
 ],
 "metadata": {
  "kernelspec": {
   "display_name": "d2l",
   "language": "python",
   "name": "python3"
  },
  "language_info": {
   "codemirror_mode": {
    "name": "ipython",
    "version": 3
   },
   "file_extension": ".py",
   "mimetype": "text/x-python",
   "name": "python",
   "nbconvert_exporter": "python",
   "pygments_lexer": "ipython3",
   "version": "3.8.19"
  }
 },
 "nbformat": 4,
 "nbformat_minor": 2
}
